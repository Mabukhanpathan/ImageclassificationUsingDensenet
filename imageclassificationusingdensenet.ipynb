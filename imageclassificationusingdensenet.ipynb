{
  "nbformat": 4,
  "nbformat_minor": 0,
  "metadata": {
    "colab": {
      "provenance": [],
      "toc_visible": true,
      "gpuType": "T4",
      "authorship_tag": "ABX9TyPFtmBpdl3uIO0Cg6MODoyX",
      "include_colab_link": true
    },
    "kernelspec": {
      "name": "python3",
      "display_name": "Python 3"
    },
    "language_info": {
      "name": "python"
    },
    "accelerator": "GPU"
  },
  "cells": [
    {
      "cell_type": "markdown",
      "metadata": {
        "id": "view-in-github",
        "colab_type": "text"
      },
      "source": [
        "<a href=\"https://colab.research.google.com/github/Mabukhanpathan/ImageclassificationUsingDensenet/blob/main/imageclassificationusingdensenet.ipynb\" target=\"_parent\"><img src=\"https://colab.research.google.com/assets/colab-badge.svg\" alt=\"Open In Colab\"/></a>"
      ]
    },
    {
      "cell_type": "code",
      "source": [
        "import numpy as np\n",
        "from keras.datasets import cifar10\n",
        "from keras.utils import to_categorical\n",
        "from keras.applications import DenseNet121\n",
        "from keras.models import Sequential\n",
        "from keras.layers import Dense, GlobalAveragePooling2D\n",
        "from keras.optimizers import Adam\n",
        "from keras.preprocessing import image\n",
        "from keras.applications.densenet import preprocess_input\n",
        "\n",
        "# Function to preprocess the input image\n",
        "def preprocess_image(img_array):\n",
        "    img_array = np.expand_dims(img_array, axis=0)\n",
        "    return preprocess_input(img_array)\n",
        "\n",
        "# Load CIFAR-10 dataset\n",
        "(x_train, y_train), (x_test, y_test) = cifar10.load_data()\n",
        "\n",
        "# Normalize pixel values to be between 0 and 1\n",
        "x_train, x_test = x_train / 255.0, x_test / 255.0\n",
        "\n",
        "# One-hot encode the labels\n",
        "y_train = to_categorical(y_train, 10)\n",
        "y_test = to_categorical(y_test, 10)\n",
        "\n",
        "# Create the DenseNet model\n",
        "base_model = DenseNet121(weights='imagenet', include_top=False, input_shape=(32, 32, 3))\n",
        "\n",
        "model = Sequential()\n",
        "model.add(base_model)\n",
        "model.add(GlobalAveragePooling2D())\n",
        "model.add(Dense(256, activation='relu'))\n",
        "model.add(Dense(10, activation='softmax'))\n",
        "\n",
        "# Freeze the DenseNet layers\n",
        "for layer in base_model.layers:\n",
        "    layer.trainable = False\n",
        "\n",
        "# Compile the model\n",
        "model.compile(optimizer=Adam(learning_rate=0.001), loss='categorical_crossentropy', metrics=['accuracy'])\n",
        "\n",
        "# Train the model\n",
        "model.fit(x_train, y_train, epochs=10, batch_size=32, validation_data=(x_test, y_test))\n",
        "\n",
        "# Evaluate the model\n",
        "score = model.evaluate(x_test, y_test, verbose=0)\n",
        "print('Test loss:', score[0])\n",
        "print('Test accuracy:', score[1])\n",
        "\n",
        "# Select an index from the test set (replace 0 with the desired index)\n",
        "index_to_test = 0\n",
        "\n",
        "# Preprocess the input image\n",
        "new_image = preprocess_image(x_test[index_to_test])\n",
        "\n",
        "# Make a prediction\n",
        "predictions = model.predict(new_image)\n",
        "\n",
        "# Get the predicted class (index with the highest probability)\n",
        "predicted_class = np.argmax(predictions)\n",
        "\n",
        "# You can also map the index to the actual class name using your dataset's class labels\n",
        "class_labels = ['airplane', 'automobile', 'bird', 'cat', 'deer', 'dog', 'frog', 'horse', 'ship', 'truck']\n",
        "predicted_class_name = class_labels[predicted_class]\n",
        "\n",
        "print(f'The model predicts that the image contains: {predicted_class_name}')\n",
        ""
      ],
      "metadata": {
        "colab": {
          "base_uri": "https://localhost:8080/"
        },
        "id": "wL99-pHgNkHI",
        "outputId": "96f26c98-8ed5-4041-8886-96c68b8ce406"
      },
      "execution_count": 10,
      "outputs": [
        {
          "output_type": "stream",
          "name": "stdout",
          "text": [
            "Epoch 1/10\n",
            "1563/1563 [==============================] - 38s 20ms/step - loss: 1.2170 - accuracy: 0.5742 - val_loss: 1.1296 - val_accuracy: 0.6110\n",
            "Epoch 2/10\n",
            "1563/1563 [==============================] - 30s 19ms/step - loss: 1.0233 - accuracy: 0.6381 - val_loss: 1.0689 - val_accuracy: 0.6291\n",
            "Epoch 3/10\n",
            "1563/1563 [==============================] - 34s 22ms/step - loss: 0.9436 - accuracy: 0.6662 - val_loss: 1.0297 - val_accuracy: 0.6409\n",
            "Epoch 4/10\n",
            "1563/1563 [==============================] - 29s 19ms/step - loss: 0.8728 - accuracy: 0.6906 - val_loss: 1.0422 - val_accuracy: 0.6420\n",
            "Epoch 5/10\n",
            "1563/1563 [==============================] - 29s 19ms/step - loss: 0.8159 - accuracy: 0.7098 - val_loss: 1.0574 - val_accuracy: 0.6414\n",
            "Epoch 6/10\n",
            "1563/1563 [==============================] - 29s 19ms/step - loss: 0.7599 - accuracy: 0.7281 - val_loss: 1.0513 - val_accuracy: 0.6511\n",
            "Epoch 7/10\n",
            "1563/1563 [==============================] - 28s 18ms/step - loss: 0.7058 - accuracy: 0.7488 - val_loss: 1.0548 - val_accuracy: 0.6464\n",
            "Epoch 8/10\n",
            "1563/1563 [==============================] - 29s 19ms/step - loss: 0.6549 - accuracy: 0.7653 - val_loss: 1.1238 - val_accuracy: 0.6418\n",
            "Epoch 9/10\n",
            "1563/1563 [==============================] - 28s 18ms/step - loss: 0.6086 - accuracy: 0.7824 - val_loss: 1.1640 - val_accuracy: 0.6410\n",
            "Epoch 10/10\n",
            "1563/1563 [==============================] - 28s 18ms/step - loss: 0.5606 - accuracy: 0.8004 - val_loss: 1.1989 - val_accuracy: 0.6365\n",
            "Test loss: 1.1989413499832153\n",
            "Test accuracy: 0.6365000009536743\n",
            "1/1 [==============================] - 3s 3s/step\n",
            "The model predicts that the image contains: airplane\n"
          ]
        }
      ]
    },
    {
      "cell_type": "code",
      "source": [],
      "metadata": {
        "id": "zQ5hbyOAWKEX"
      },
      "execution_count": null,
      "outputs": []
    }
  ]
}